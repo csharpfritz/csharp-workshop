{
 "cells": [
  {
   "cell_type": "markdown",
   "metadata": {
    "dotnet_interactive": {
     "language": "markdown"
    }
   },
   "source": [
    "# C# 8 Feature Review\n",
    "\n",
    "Let's review some of the more [popular features of C# 8](https://docs.microsoft.com/dotnet/csharp/whats-new/csharp-8) that were introduced.\n",
    "\n",
    "## Readonly members\n",
    "\n",
    "You can apply the `readonly` modifier to members of a struct. It indicates that the member doesn't modify state. It's more granular than applying the `readonly` modifier to a `struct` declaration. Consider the following mutable struct:"
   ]
  },
  {
   "cell_type": "code",
   "execution_count": null,
   "metadata": {
    "dotnet_interactive": {
     "language": "csharp"
    }
   },
   "outputs": [],
   "source": [
    "public struct Point\n",
    "{\n",
    "    public double X { get; set; }\n",
    "    public double Y { get; set; }\n",
    "    public readonly double Distance => Math.Sqrt(X * X + Y * Y);\n",
    "\n",
    "    public readonly override string ToString() =>\n",
    "        $\"({X}, {Y}) is {Distance} from the origin\";\n",
    "}"
   ]
  },
  {
   "cell_type": "markdown",
   "metadata": {
    "dotnet_interactive": {
     "language": "markdown"
    }
   },
   "source": [
    "## Default interface methods\n",
    "\n",
    "You can now add members to interfaces and provide an implementation for those members. This language feature enables API authors to add methods to an interface in later versions without breaking source or binary compatibility with existing implementations of that interface. Existing implementations inherit the default implementation. "
   ]
  },
  {
   "cell_type": "code",
   "execution_count": null,
   "metadata": {
    "dotnet_interactive": {
     "language": "csharp"
    }
   },
   "outputs": [],
   "source": [
    "public class Order\n",
    "{\n",
    "\t\tpublic DateTime Purchased { get; set; }\n",
    "\t\tpublic decimal Cost { get; set; }\n",
    "}\n",
    "\n",
    "public interface ICustomer\n",
    "{\n",
    "\tIEnumerable<Order> PreviousOrders { get; }\n",
    "\n",
    "\tDateTime DateJoined { get; }\n",
    "\tDateTime? LastOrder { get; }\n",
    "\tstring Name { get; }\n",
    "\tIDictionary<DateTime, string> Reminders { get; }\n",
    "\n",
    "\tpublic decimal ComputeLoyaltyDiscount()\n",
    "\t{\n",
    "\t\t\tDateTime TwoYearsAgo = DateTime.Now.AddYears(-2);\n",
    "\t\t\tif ((DateJoined < TwoYearsAgo) && (PreviousOrders.Count() > 5))\n",
    "\t\t\t{\n",
    "\t\t\t\t\treturn 0.10m;\n",
    "\t\t\t}\n",
    "\t\t\treturn 0;\n",
    "\t}\n",
    "}\n",
    "\n",
    "public interface ICustomer2 : ICustomer {\n",
    "\tdecimal ComputeLoyaltyDiscount();\n",
    "}\n",
    "\n",
    "public class MyCustomer : ICustomer {\n",
    "\n",
    "\tpublic IEnumerable<Order> PreviousOrders { get; set; } = new List<Order>();\n",
    "\n",
    "\tpublic DateTime DateJoined { get; }\n",
    "\tpublic DateTime? LastOrder { get; }\n",
    "\tpublic string Name { get; }\n",
    "\tpublic IDictionary<DateTime, string> Reminders { get; }\n",
    "\n",
    "}\n",
    "\n",
    "ICustomer c = new MyCustomer() {\n",
    "\tPreviousOrders = new List<Order> {\n",
    "\t\tnew Order {Cost = 5.99m },\n",
    "\t\tnew Order {Cost = 6.99m },\n",
    "\t\tnew Order {Cost = 7.99m },\n",
    "\t\tnew Order {Cost = 8.99m },\n",
    "\t\tnew Order {Cost = 9.99m },\n",
    "\t\tnew Order {Cost = 11.99m },\n",
    "\t}\n",
    "};\n",
    "Console.WriteLine(c.ComputeLoyaltyDiscount());"
   ]
  },
  {
   "cell_type": "markdown",
   "metadata": {
    "dotnet_interactive": {
     "language": "markdown"
    }
   },
   "source": [
    "## Switch expressions\n",
    "\n",
    "Often, a switch statement produces a value in each of its `case` blocks. Switch expressions enable you to use more concise expression syntax. There are fewer repetitive `case` and `break` keywords, and fewer curly braces. "
   ]
  },
  {
   "cell_type": "code",
   "execution_count": null,
   "metadata": {
    "dotnet_interactive": {
     "language": "csharp"
    }
   },
   "outputs": [],
   "source": [
    "using System.Drawing;\n",
    "\n",
    "public enum Rainbow\n",
    "{\n",
    "    Red,\n",
    "    Orange,\n",
    "    Yellow,\n",
    "    Green,\n",
    "    Blue,\n",
    "    Indigo,\n",
    "    Violet,\n",
    "\t\tPapayawhip\n",
    "}\n",
    "\n",
    "public Color FromRainbow(Rainbow colorBand) =>\n",
    "    colorBand switch\n",
    "    {\n",
    "        Rainbow.Red    => Color.FromArgb(0xFF, 0x00, 0x00),\n",
    "        Rainbow.Orange => Color.FromArgb(0xFF, 0x7F, 0x00),\n",
    "        Rainbow.Yellow => Color.FromArgb(0xFF, 0xFF, 0x00),\n",
    "        Rainbow.Green  => Color.FromArgb(0x00, 0xFF, 0x00),\n",
    "        Rainbow.Blue   => Color.FromArgb(0x00, 0x00, 0xFF),\n",
    "        Rainbow.Indigo => Color.FromArgb(0x4B, 0x00, 0x82),\n",
    "        Rainbow.Violet => Color.FromArgb(0x94, 0x00, 0xD3),\n",
    "        _              => throw new ArgumentException(message: \"invalid enum value\", paramName: nameof(colorBand)),\n",
    "    };\n",
    "\n",
    "Console.WriteLine(FromRainbow(Rainbow.Red));"
   ]
  },
  {
   "cell_type": "markdown",
   "metadata": {
    "dotnet_interactive": {
     "language": "markdown"
    }
   },
   "source": [
    "## Property patterns\n",
    "\n",
    "The property pattern enables you to match on properties of the object examined."
   ]
  },
  {
   "cell_type": "code",
   "execution_count": null,
   "metadata": {
    "dotnet_interactive": {
     "language": "csharp"
    }
   },
   "outputs": [],
   "source": [
    "public class Address {\n",
    "\tpublic string State {get; set;}\n",
    "\tpublic string City { get; set; }\n",
    "}\n",
    "\n",
    "public static decimal ComputeSalesTax(Address location, decimal salePrice) =>\n",
    "    location switch\n",
    "    {\n",
    "        { State: \"WA\" } => salePrice * 0.06M,\n",
    "        { State: \"MN\" } => salePrice * 0.075M,\n",
    "        { State: \"MI\" } => salePrice * 0.05M,\n",
    "\t\t\t\t{ State: \"PA\", City: \"Pittsburgh\" } => salePrice * 0.07M,\n",
    "\t\t\t\t{ State: \"PA\", City: \"Philadelphia\" } => salePrice * 0.08M,\n",
    "\t\t\t\t{ State: \"PA\" } => salePrice * 0.06M,\n",
    "        // other cases removed for brevity...\n",
    "        _ => 0M\n",
    "    };\n",
    "\n",
    "var hoagiePrice = 5.99M;\n",
    "Console.WriteLine(ComputeSalesTax(new Address { State=\"PA\"}, hoagiePrice));"
   ]
  },
  {
   "cell_type": "markdown",
   "metadata": {
    "dotnet_interactive": {
     "language": "markdown"
    }
   },
   "source": [
    "## Tuple patterns\n",
    "\n",
    "Some algorithms depend on multiple inputs. Tuple patterns allow you to switch based on multiple values expressed as a tuple. The following code shows a switch expression for the game *rock, paper, scissors*:"
   ]
  },
  {
   "cell_type": "code",
   "execution_count": null,
   "metadata": {
    "dotnet_interactive": {
     "language": "csharp"
    }
   },
   "outputs": [],
   "source": [
    "public string RockPaperScissors(string first, string second)\n",
    "    => (first, second) switch\n",
    "    {\n",
    "        (\"rock\", \"paper\") => \"rock is covered by paper. Paper wins.\",\n",
    "        (\"rock\", \"scissors\") => \"rock breaks scissors. Rock wins.\",\n",
    "\t\t\t\t(\"paper\", \"rock\") => \"paper covers rock. Paper wins.\",\n",
    "        (\"paper\", \"scissors\") => \"paper is cut by scissors. Scissors wins.\",\n",
    "        (\"scissors\", \"rock\") => \"scissors is broken by rock. Rock wins.\",\n",
    "        (\"scissors\", \"paper\") => \"scissors cuts paper. Scissors wins.\",\n",
    "\t\t\t\t// (\"rock\", _) => \"Good ole rock... Rock always wins\",\n",
    "\t\t\t\t// (_, \"rock\") => \"Good ole rock... Rock always wins\",\n",
    "\t\t\t\t(_, _) => \"tie\"\n",
    "    };\n",
    "\n",
    "Console.WriteLine(RockPaperScissors(\"rock\", \"paper\"));\n",
    "// The Bart Simpson rule:  https://www.youtube.com/embed/b0SoKWLkmLU"
   ]
  },
  {
   "cell_type": "markdown",
   "metadata": {
    "dotnet_interactive": {
     "language": "markdown"
    }
   },
   "source": [
    "## Using declarations\n",
    "\n",
    "A using declaration is a variable declaration preceded by the using keyword. It tells the compiler that the variable being declared should be disposed at the end of the enclosing scope. "
   ]
  },
  {
   "cell_type": "code",
   "execution_count": null,
   "metadata": {
    "dotnet_interactive": {
     "language": "csharp"
    }
   },
   "outputs": [],
   "source": [
    "static int WriteLinesToFile(IEnumerable<string> lines)\n",
    "{\n",
    "    using var file = new System.IO.StreamWriter(\"WriteLines2.txt\");\n",
    "\n",
    "\t\tint skippedLines = 0;\n",
    "        foreach (string line in lines)\n",
    "        {\n",
    "            if (!line.Contains(\"Second\"))\n",
    "            {\n",
    "                file.WriteLine(line);\n",
    "            }\n",
    "            else\n",
    "            {\n",
    "                skippedLines++;\n",
    "            }\n",
    "        }\n",
    "        return skippedLines;\n",
    "\n",
    "\t\t\t}"
   ]
  },
  {
   "cell_type": "markdown",
   "metadata": {
    "dotnet_interactive": {
     "language": "markdown"
    }
   },
   "source": [
    "## Static local functions\n",
    "\n",
    "You can now add the `static` modifier to local functions to ensure that local function doesn't capture any variables from the enclosing scope."
   ]
  },
  {
   "cell_type": "code",
   "execution_count": null,
   "metadata": {
    "dotnet_interactive": {
     "language": "csharp"
    }
   },
   "outputs": [],
   "source": [
    "int Sum()\n",
    "{\n",
    "    int y = 5;\n",
    "    int x = 7;\n",
    "    return Add(x, y);\n",
    "\n",
    "    static int Add(int left, int right) => left + right;\n",
    "}\n",
    "\n",
    "Console.WriteLine(Sum());"
   ]
  },
  {
   "cell_type": "markdown",
   "metadata": {
    "dotnet_interactive": {
     "language": "markdown"
    }
   },
   "source": [
    "## Asynchronous disposable\n",
    "\n",
    "Starting with C# 8.0, the language supports asynchronous disposable types that implement the `System.IAsyncDisposable` interface. You use the `await using` statement to work with an asynchronously disposable object. "
   ]
  },
  {
   "cell_type": "code",
   "execution_count": null,
   "metadata": {
    "dotnet_interactive": {
     "language": "csharp"
    }
   },
   "outputs": [],
   "source": [
    "using System;\n",
    "using System.IO;\n",
    "using System.Text.Json;\n",
    "using System.Threading.Tasks;\n",
    "\n",
    "public class ExampleAsyncDisposable : IAsyncDisposable, IDisposable\n",
    "{\n",
    "    private Utf8JsonWriter _jsonWriter = new(new MemoryStream());\n",
    "\n",
    "    public void Dispose()\n",
    "    {\n",
    "        Dispose(disposing: true);\n",
    "        GC.SuppressFinalize(this);\n",
    "    }\n",
    "\n",
    "    public async ValueTask DisposeAsync()\n",
    "    {\n",
    "        await DisposeAsyncCore();\n",
    "\n",
    "        Dispose(disposing: false);\n",
    "#pragma warning disable CA1816 // Dispose methods should call SuppressFinalize\n",
    "        GC.SuppressFinalize(this);\n",
    "#pragma warning restore CA1816 // Dispose methods should call SuppressFinalize\n",
    "    }\n",
    "\n",
    "    protected virtual void Dispose(bool disposing)\n",
    "    {\n",
    "        if (disposing)\n",
    "        {\n",
    "            _jsonWriter?.Dispose();\n",
    "        }\n",
    "\n",
    "        _jsonWriter = null;\n",
    "    }\n",
    "\n",
    "    protected virtual async ValueTask DisposeAsyncCore()\n",
    "    {\n",
    "        if (_jsonWriter is not null)\n",
    "        {\n",
    "            await _jsonWriter.DisposeAsync().ConfigureAwait(false);\n",
    "        }\n",
    "\n",
    "        _jsonWriter = null;\n",
    "    }\n",
    "}"
   ]
  },
  {
   "cell_type": "markdown",
   "metadata": {
    "dotnet_interactive": {
     "language": "markdown"
    }
   },
   "source": [
    "To properly consume an object that implements the `IAsyncDisposable` interface, you use the `await` and `using` keywords together. Consider the following example, where the `ExampleAsyncDisposable` class is instantiated and then wrapped in an `await using` statement."
   ]
  },
  {
   "cell_type": "code",
   "execution_count": null,
   "metadata": {
    "dotnet_interactive": {
     "language": "csharp"
    }
   },
   "outputs": [],
   "source": [
    "var exampleAsyncDisposable = new ExampleAsyncDisposable();\n",
    "await using (exampleAsyncDisposable.ConfigureAwait(false))\n",
    "{\n",
    "\t\t// Interact with the exampleAsyncDisposable instance.\n",
    "}"
   ]
  },
  {
   "cell_type": "markdown",
   "metadata": {
    "dotnet_interactive": {
     "language": "markdown"
    }
   },
   "source": [
    "## Indices and ranges\n",
    "\n",
    "Indices and ranges provide a succinct syntax for accessing single elements or ranges in a sequence.\n",
    "\n",
    "This language support relies on two new types, and two new operators:\n",
    "\n",
    "- `System.Index` represents an index into a sequence.\n",
    "- The index from end operator `^`, which specifies that an index is relative to the end of the sequence.\n",
    "- `System.Range` represents a sub range of a sequence.\n",
    "- The range operator `..`, which specifies the start and end of a range as its operands.\n",
    "\n",
    "Let's start with the rules for indexes. Consider an array `sequence`. The `0` index is the same as `sequence[0]`. The `^0` index is the same as `sequence[sequence.Length]`. Note that `sequence[^0]` does throw an exception, just as `sequence[sequence.Length]` does. For any number `n`, the index `^n` is the same as `sequence.Length - n`."
   ]
  },
  {
   "cell_type": "code",
   "execution_count": null,
   "metadata": {
    "dotnet_interactive": {
     "language": "csharp"
    }
   },
   "outputs": [],
   "source": [
    "var words = new string[]\n",
    "{\n",
    "                // index from start    index from end\n",
    "    \"The\",      // 0                   ^9\n",
    "    \"quick\",    // 1                   ^8\n",
    "    \"brown\",    // 2                   ^7\n",
    "    \"fox\",      // 3                   ^6\n",
    "    \"jumped\",   // 4                   ^5\n",
    "    \"over\",     // 5                   ^4\n",
    "    \"the\",      // 6                   ^3\n",
    "    \"lazy\",     // 7                   ^2\n",
    "    \"dog\"       // 8                   ^1\n",
    "};              // 9 (or words.Length) ^0"
   ]
  },
  {
   "cell_type": "code",
   "execution_count": null,
   "metadata": {
    "dotnet_interactive": {
     "language": "csharp"
    }
   },
   "outputs": [],
   "source": [
    "Console.WriteLine($\"The last word is {words[^1]}\");"
   ]
  },
  {
   "cell_type": "code",
   "execution_count": null,
   "metadata": {
    "dotnet_interactive": {
     "language": "csharp"
    }
   },
   "outputs": [
    {
     "data": {
      "text/plain": [
       "quick brown fox\n"
      ]
     },
     "output_type": "unknown"
    }
   ],
   "source": [
    "var quickBrownFox = words[1..4];\n",
    "Console.WriteLine(String.Join(' ', quickBrownFox));"
   ]
  },
  {
   "cell_type": "code",
   "execution_count": null,
   "metadata": {
    "dotnet_interactive": {
     "language": "csharp"
    }
   },
   "outputs": [
    {
     "data": {
      "text/plain": [
       "lazy dog\n"
      ]
     },
     "output_type": "unknown"
    }
   ],
   "source": [
    "var lazyDog = words[^2..^0];\n",
    "Console.WriteLine(String.Join(' ', lazyDog));"
   ]
  },
  {
   "cell_type": "code",
   "execution_count": null,
   "metadata": {
    "dotnet_interactive": {
     "language": "csharp"
    }
   },
   "outputs": [],
   "source": [
    "var allWords = words[..]; // contains \"The\" through \"dog\".\n",
    "var firstPhrase = words[..4]; // contains \"The\" through \"fox\"\n",
    "var lastPhrase = words[6..]; // contains \"the\", \"lazy\" and \"dog\"\n",
    "\n",
    "Console.WriteLine(String.Join(' ', lastPhrase));"
   ]
  },
  {
   "cell_type": "code",
   "execution_count": null,
   "metadata": {
    "dotnet_interactive": {
     "language": "csharp"
    }
   },
   "outputs": [],
   "source": [
    "//Range phrase = 1..4;\n",
    "var phrase = new Range(1, 4); \n",
    "var text = words[phrase];\n",
    "Console.WriteLine(String.Join(' ', text));"
   ]
  },
  {
   "cell_type": "markdown",
   "metadata": {
    "dotnet_interactive": {
     "language": "markdown"
    }
   },
   "source": [
    "## Null-coalescing assignment\n",
    "\n",
    "C# 8.0 introduces the null-coalescing assignment operator `??=`. You can use the `??=` operator to assign the value of its right-hand operand to its left-hand operand only if the left-hand operand evaluates to null."
   ]
  },
  {
   "cell_type": "code",
   "execution_count": null,
   "metadata": {
    "dotnet_interactive": {
     "language": "csharp"
    }
   },
   "outputs": [],
   "source": [
    "List<int> numbers = null;\n",
    "int? i = null;\n",
    "\n",
    "numbers ??= new List<int>();\n",
    "numbers.Add(i ??= 17);\n",
    "numbers.Add(i ??= 20);\n",
    "\n",
    "Console.WriteLine(string.Join(\" \", numbers));  \n",
    "Console.WriteLine(i);  "
   ]
  }
 ],
 "metadata": {
  "kernelspec": {
   "display_name": ".NET (C#)",
   "language": "C#",
   "name": ".net-csharp"
  },
  "language_info": {
   "name": "C#"
  }
 },
 "nbformat": 4,
 "nbformat_minor": 2
}