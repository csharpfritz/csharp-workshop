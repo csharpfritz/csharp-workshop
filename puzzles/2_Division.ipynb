{
 "cells": [
  {
   "cell_type": "markdown",
   "metadata": {
    "dotnet_interactive": {
     "language": "markdown"
    }
   },
   "source": [
    "# Division with precision\n",
    "\n",
    "I wrote a method to perform division operations, but misbehaves for me:"
   ]
  },
  {
   "cell_type": "code",
   "execution_count": null,
   "metadata": {
    "dotnet_interactive": {
     "language": "csharp"
    }
   },
   "outputs": [],
   "source": [
    "public int CalculateDiscount(int maxDiscountPercent, \n",
    "    int markupPercent, int niceFactor)\n",
    "{\n",
    "    int discount = maxDiscountPercent * (markupPercent / niceFactor);\n",
    "    return discount;\n",
    "}\n",
    "\n",
    "double discount = CalculateDiscount(30, 20, 30);\n",
    "Console.WriteLine(discount);"
   ]
  },
  {
   "cell_type": "markdown",
   "metadata": {
    "dotnet_interactive": {
     "language": "markdown"
    }
   },
   "source": [
    "Let's try that again... but with some of the discount parameters as `double` types"
   ]
  },
  {
   "cell_type": "code",
   "execution_count": null,
   "metadata": {
    "dotnet_interactive": {
     "language": "csharp"
    }
   },
   "outputs": [],
   "source": [
    "int maxDiscountPercent = 30;\n",
    "double markupPercent = 20;\n",
    "int niceFactor = 30;\n",
    "double discount = maxDiscountPercent * (markupPercent / niceFactor);\n",
    "\n",
    "Console.WriteLine(discount);"
   ]
  },
  {
   "cell_type": "markdown",
   "metadata": {
    "dotnet_interactive": {
     "language": "markdown"
    }
   },
   "source": [
    "Let's look at a similar problem when dividing types of `decimal` type"
   ]
  },
  {
   "cell_type": "code",
   "execution_count": null,
   "metadata": {
    "dotnet_interactive": {
     "language": "csharp"
    }
   },
   "outputs": [],
   "source": [
    "int x = 9; int y = 10; int z = 100;\n",
    "if (x == 0 || y == 0) { throw new InvalidOperationException(); }\n",
    "decimal interim = x / y;\n",
    "decimal result = z / interim;\n",
    "\n",
    "// What is the interim?\n",
    "// What is the result?"
   ]
  },
  {
   "cell_type": "markdown",
   "metadata": {
    "dotnet_interactive": {
     "language": "markdown"
    }
   },
   "source": [
    "Let's look back into the discount problem, but with `decimal`"
   ]
  },
  {
   "cell_type": "code",
   "execution_count": null,
   "metadata": {
    "dotnet_interactive": {
     "language": "csharp"
    }
   },
   "outputs": [],
   "source": [
    "int maxDiscountPercent = 30;\n",
    "decimal markupPercent = 20;\n",
    "int niceFactor = 30;\n",
    "decimal discount = maxDiscountPercent * (markupPercent / niceFactor);\n",
    "\n",
    "Console.WriteLine(discount);"
   ]
  },
  {
   "cell_type": "markdown",
   "metadata": {
    "dotnet_interactive": {
     "language": "markdown"
    }
   },
   "source": [
    "One more time with `double`:"
   ]
  },
  {
   "cell_type": "code",
   "execution_count": null,
   "metadata": {
    "dotnet_interactive": {
     "language": "csharp"
    }
   },
   "outputs": [],
   "source": [
    "int maxDiscountPercent = 30;\n",
    "double markupPercent = 20;\n",
    "int niceFactor = 30;\n",
    "double discount = maxDiscountPercent * (markupPercent / niceFactor);\n",
    "\n",
    "Console.WriteLine(discount);"
   ]
  }
 ],
 "metadata": {
  "kernelspec": {
   "display_name": ".NET (C#)",
   "language": "C#",
   "name": ".net-csharp"
  },
  "language_info": {
   "file_extension": ".cs",
   "mimetype": "text/x-csharp",
   "name": "C#",
   "pygments_lexer": "csharp",
   "version": "9.0"
  },
  "orig_nbformat": 2
 },
 "nbformat": 4,
 "nbformat_minor": 2
}