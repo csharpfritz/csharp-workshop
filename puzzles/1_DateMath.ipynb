{
 "cells": [
  {
   "cell_type": "markdown",
   "metadata": {
    "dotnet_interactive": {
     "language": "markdown"
    }
   },
   "source": [
    "# Date Math\n",
    "\n",
    "Working with dates is EASY...  anyone can add and subtract values from a date.  Let's work through some math operations with the expiration of my .NET Hotel Club membership.\n",
    "\n",
    "**First:**  Our .NET Hotel Club Membership expires every two years"
   ]
  },
  {
   "cell_type": "code",
   "execution_count": null,
   "metadata": {
    "dotnet_interactive": {
     "language": "csharp"
    }
   },
   "outputs": [],
   "source": [
    "const int ExpirationYears = 2;"
   ]
  },
  {
   "cell_type": "markdown",
   "metadata": {
    "dotnet_interactive": {
     "language": "markdown"
    }
   },
   "source": [
    "I wrote the original routines for the .NET Hotel Club membership system to calculate your club expiration.  Everything was working great with this method:"
   ]
  },
  {
   "cell_type": "code",
   "execution_count": null,
   "metadata": {
    "dotnet_interactive": {
     "language": "csharp"
    }
   },
   "outputs": [
    {
     "data": {
      "text/plain": "If I bought a membership 6/10/2021, it would expire: 6/10/2023\n"
     },
     "output_type": "unknown"
    }
   ],
   "source": [
    "public DateTime CalculateExpiration(DateTime membershipStartDate) \n",
    "{\n",
    "    var expirationDate = new DateTime(\n",
    "        membershipStartDate.Year + ExpirationYears,\n",
    "        membershipStartDate.Month,\n",
    "        membershipStartDate.Day\n",
    "    );\n",
    "    return expirationDate;\n",
    "}\n",
    "\n",
    "var datePurchased = DateTime.Now;\n",
    "Console.WriteLine($\"If I bought a membership {datePurchased.ToShortDateString()}, \" +\n",
    "    $\"it would expire: {CalculateExpiration(datePurchased).ToShortDateString()}\")"
   ]
  },
  {
   "cell_type": "markdown",
   "metadata": {
    "dotnet_interactive": {
     "language": "markdown"
    }
   },
   "source": [
    "A few years later, the Membership Club got very upset at me because they said my code no longer works.  Can you spot the error?"
   ]
  }
 ],
 "metadata": {
  "kernelspec": {
   "display_name": ".NET (C#)",
   "language": "C#",
   "name": ".net-csharp"
  },
  "language_info": {
   "file_extension": ".cs",
   "mimetype": "text/x-csharp",
   "name": "C#",
   "pygments_lexer": "csharp",
   "version": "9.0"
  },
  "orig_nbformat": 2
 },
 "nbformat": 4,
 "nbformat_minor": 2
}