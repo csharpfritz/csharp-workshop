{
 "cells": [
  {
   "cell_type": "markdown",
   "metadata": {
    "dotnet_interactive": {
     "language": "markdown"
    }
   },
   "source": [
    "# LINQ -- What's REALLY going on?\n",
    "\n",
    "LINQ is such a convenient feature, but there have always been rumblings of *it's not fast* or *LINQ is so inefficient*\n",
    "\n",
    "Let's dig into LINQ execution patterns with a few samples.  We'll start by configuring a group of collections to work with:"
   ]
  },
  {
   "cell_type": "code",
   "execution_count": null,
   "metadata": {
    "dotnet_interactive": {
     "language": "csharp"
    }
   },
   "outputs": [],
   "source": [
    "private static int[] list = { 0, 1, 2, 3, 4, 5, 6, 7, 8, 9 };\n",
    "private static int len = list.Count(); // 10\n",
    "private int A = 0, B = 0, C = 0, D = 0, E = 0, F = 0;"
   ]
  },
  {
   "cell_type": "markdown",
   "metadata": {
    "dotnet_interactive": {
     "language": "markdown"
    }
   },
   "source": [
    "In this first test, let's determine how many times the query is evaluated.\n",
    "\n",
    "Increment counter, ten times for each evaluation, Once for every item in the list (len)"
   ]
  },
  {
   "cell_type": "code",
   "execution_count": null,
   "metadata": {
    "dotnet_interactive": {
     "language": "csharp"
    }
   },
   "outputs": [
    {
     "data": {
      "text/plain": [
       "False\n"
      ]
     },
     "output_type": "unknown"
    }
   ],
   "source": [
    "IEnumerable<int> qA = list.Where(x => { A++; return true; });\n",
    "foreach (int x in qA) { }\n",
    "\n",
    "Console.WriteLine(-1 == A / len);"
   ]
  },
  {
   "cell_type": "code",
   "execution_count": null,
   "metadata": {
    "dotnet_interactive": {
     "language": "csharp"
    }
   },
   "outputs": [
    {
     "data": {
      "text/plain": [
       "Executed 10 times\n"
      ]
     },
     "output_type": "unknown"
    }
   ],
   "source": [
    "Console.WriteLine($\"Executed {A} times\");"
   ]
  },
  {
   "cell_type": "markdown",
   "metadata": {
    "dotnet_interactive": {
     "language": "markdown"
    }
   },
   "source": [
    "Let's try that again... without the `foreach` loop"
   ]
  },
  {
   "cell_type": "code",
   "execution_count": null,
   "metadata": {
    "dotnet_interactive": {
     "language": "csharp"
    }
   },
   "outputs": [
    {
     "data": {
      "text/plain": [
       "False\n"
      ]
     },
     "output_type": "unknown"
    }
   ],
   "source": [
    "IEnumerable<int> qB = list.Where(x => { B++; return true; });\n",
    "Console.WriteLine(-1 == B / len);"
   ]
  },
  {
   "cell_type": "code",
   "execution_count": null,
   "metadata": {
    "dotnet_interactive": {
     "language": "csharp"
    }
   },
   "outputs": [
    {
     "data": {
      "text/plain": [
       "0\n"
      ]
     },
     "output_type": "unknown"
    }
   ],
   "source": [
    "Console.WriteLine(B);"
   ]
  },
  {
   "cell_type": "markdown",
   "metadata": {
    "dotnet_interactive": {
     "language": "markdown"
    }
   },
   "source": [
    "Next, let's add some calculations to a test scenario.  How many times does this loop get evaluated?"
   ]
  },
  {
   "cell_type": "code",
   "execution_count": null,
   "metadata": {
    "dotnet_interactive": {
     "language": "csharp"
    }
   },
   "outputs": [
    {
     "data": {
      "text/plain": [
       "False\n"
      ]
     },
     "output_type": "unknown"
    }
   ],
   "source": [
    "IEnumerable<int> qC = list.Where(x => { C++; return true; });\n",
    "double avg = qC.Average();\n",
    "int count = qC.Count();\n",
    "foreach (int x in qC) { }\n",
    "Console.WriteLine(-1 == C / len);"
   ]
  },
  {
   "cell_type": "code",
   "execution_count": null,
   "metadata": {
    "dotnet_interactive": {
     "language": "csharp"
    }
   },
   "outputs": [
    {
     "data": {
      "text/plain": [
       "30\n"
      ]
     },
     "output_type": "unknown"
    }
   ],
   "source": [
    "Console.WriteLine(C);"
   ]
  },
  {
   "cell_type": "markdown",
   "metadata": {
    "dotnet_interactive": {
     "language": "markdown"
    }
   },
   "source": [
    "What happens if we copy the LINQ query and iterate over THAT instance?  How many times will the loop execute on the original query?"
   ]
  },
  {
   "cell_type": "code",
   "execution_count": null,
   "metadata": {
    "dotnet_interactive": {
     "language": "csharp"
    }
   },
   "outputs": [
    {
     "data": {
      "text/plain": [
       "False\n"
      ]
     },
     "output_type": "unknown"
    }
   ],
   "source": [
    "IEnumerable<int> qD = list.Where(x => { D++; return true; });\n",
    "IEnumerable<int> qD2 = qD;\n",
    "double avg2 = qD2.Average();\n",
    "int count2 = qD2.Count();\n",
    "foreach (int x in qD2) { }\n",
    "Console.WriteLine(-1 == D / len);"
   ]
  },
  {
   "cell_type": "code",
   "execution_count": null,
   "metadata": {
    "dotnet_interactive": {
     "language": "csharp"
    }
   },
   "outputs": [
    {
     "data": {
      "text/plain": [
       "30\n"
      ]
     },
     "output_type": "unknown"
    }
   ],
   "source": [
    "Console.WriteLine(D);"
   ]
  },
  {
   "cell_type": "markdown",
   "metadata": {
    "dotnet_interactive": {
     "language": "markdown"
    }
   },
   "source": [
    "What happens when we add a `ToList()` execution in our process?  How does that effect the execution and iterations of our loop?"
   ]
  },
  {
   "cell_type": "code",
   "execution_count": null,
   "metadata": {
    "dotnet_interactive": {
     "language": "csharp"
    }
   },
   "outputs": [
    {
     "data": {
      "text/plain": [
       "False\n"
      ]
     },
     "output_type": "unknown"
    }
   ],
   "source": [
    "IEnumerable<int> qE = list.Where(x => { E++; return true; });\n",
    "var qE2 = qE.ToList();\n",
    "double avg3 = qE2.Average();\n",
    "int count3 = qE2.Count();\n",
    "foreach (int x in qE2) { }\n",
    "Console.WriteLine(-1 == E / len);"
   ]
  },
  {
   "cell_type": "code",
   "execution_count": null,
   "metadata": {
    "dotnet_interactive": {
     "language": "csharp"
    }
   },
   "outputs": [
    {
     "data": {
      "text/plain": [
       "10\n"
      ]
     },
     "output_type": "unknown"
    }
   ],
   "source": [
    "Console.WriteLine(E);"
   ]
  },
  {
   "cell_type": "markdown",
   "metadata": {
    "dotnet_interactive": {
     "language": "markdown"
    }
   },
   "source": [
    "Let's mix up some interactions now: we'll iterate over the list using a `for` loop with a maximum value determined using the `Count()` LINQ method:"
   ]
  },
  {
   "cell_type": "code",
   "execution_count": null,
   "metadata": {
    "dotnet_interactive": {
     "language": "csharp"
    }
   },
   "outputs": [
    {
     "data": {
      "text/plain": [
       "False\n"
      ]
     },
     "output_type": "unknown"
    }
   ],
   "source": [
    "IEnumerable<int> qF = list.Where(x => { F++; return true; });\n",
    "for (int i = 0; i < qF.Count(); i++) { }\n",
    "Console.WriteLine(-1 == F / len);"
   ]
  },
  {
   "cell_type": "code",
   "execution_count": null,
   "metadata": {
    "dotnet_interactive": {
     "language": "csharp"
    }
   },
   "outputs": [
    {
     "data": {
      "text/plain": [
       "110\n"
      ]
     },
     "output_type": "unknown"
    }
   ],
   "source": [
    "Console.WriteLine(F);"
   ]
  }
 ],
 "metadata": {
  "kernelspec": {
   "display_name": ".NET (C#)",
   "language": "C#",
   "name": ".net-csharp"
  },
  "language_info": {
   "name": "C#"
  }
 },
 "nbformat": 4,
 "nbformat_minor": 2
}