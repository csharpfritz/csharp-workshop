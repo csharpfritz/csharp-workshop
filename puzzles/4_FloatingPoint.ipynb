{
 "cells": [
  {
   "cell_type": "markdown",
   "metadata": {
    "dotnet_interactive": {
     "language": "markdown"
    }
   },
   "source": [
    "# Floating Point.. it's not floating, and quite pointless\n",
    "\n",
    "Floating point numbers are not entirely precise.  Let's take a look at some code and how (im)prefect `float` values are.\n",
    "\n",
    "Our first sample code, we'll calculate a compliance value by adding 1/3 three times and inspecting the result.  \n",
    "\n",
    "**Question:** will this result in compliance, less than 1 or greater than 1?"
   ]
  },
  {
   "cell_type": "code",
   "execution_count": null,
   "metadata": {
    "dotnet_interactive": {
     "language": "csharp"
    }
   },
   "outputs": [
    {
     "data": {
      "text/plain": [
       "0.33333334\n"
      ]
     },
     "output_type": "unknown"
    },
    {
     "data": {
      "text/plain": [
       "We're wasting money with value 1.0000000298023224\n"
      ]
     },
     "output_type": "unknown"
    }
   ],
   "source": [
    "Single[] monthlyEF = { 1, 1, 1 };\n",
    "Single[] monthlyOut = { 3, 3, 3 };\n",
    "double quarterlyCompliance = 0;\n",
    "Console.WriteLine(monthlyEF[0] / monthlyOut[0]);\n",
    "for (int i = 0; i < 3; i++)\n",
    "{ quarterlyCompliance += monthlyEF[i] / monthlyOut[i]; }\n",
    "if (quarterlyCompliance < 1)\n",
    "{ Console.WriteLine($\"Out of compliance at value {quarterlyCompliance}\"); } \n",
    "else if (quarterlyCompliance > 1)\n",
    "{ Console.WriteLine($\"We're wasting money with value {quarterlyCompliance}\"); }\n",
    "else\n",
    "{ Console.WriteLine($\"Right on target!\"); }  "
   ]
  },
  {
   "cell_type": "markdown",
   "metadata": {
    "dotnet_interactive": {
     "language": "markdown"
    }
   },
   "source": [
    "Next, let's look at mixing `double` and `single` values.  How will this code run?"
   ]
  },
  {
   "cell_type": "code",
   "execution_count": null,
   "metadata": {
    "dotnet_interactive": {
     "language": "csharp"
    }
   },
   "outputs": [
    {
     "data": {
      "text/plain": [
       "0.33333334\n"
      ]
     },
     "output_type": "unknown"
    },
    {
     "data": {
      "text/plain": [
       "1\n"
      ]
     },
     "output_type": "unknown"
    },
    {
     "data": {
      "text/plain": [
       "True\n"
      ]
     },
     "output_type": "unknown"
    },
    {
     "data": {
      "text/plain": [
       "False\n"
      ]
     },
     "output_type": "unknown"
    },
    {
     "data": {
      "text/plain": [
       "False\n"
      ]
     },
     "output_type": "unknown"
    },
    {
     "data": {
      "text/plain": [
       "True\n"
      ]
     },
     "output_type": "unknown"
    }
   ],
   "source": [
    "Single one = 1;\n",
    "Single three = 3;\n",
    "Single x = one / three;\n",
    "double result = 3 * x;\n",
    "\n",
    "Console.WriteLine(x);\n",
    "Console.WriteLine(result);\n",
    "\n",
    "Console.WriteLine(result == 1.0);\n",
    "Console.WriteLine(result > 1.0);\n",
    "Console.WriteLine(result < 1.0);\n",
    "Console.WriteLine(Math.Round(result, 7) == 1);"
   ]
  },
  {
   "cell_type": "markdown",
   "metadata": {
    "dotnet_interactive": {
     "language": "markdown"
    }
   },
   "source": [
    "Let's try that again, but run with only `single` values.  What will be the result?"
   ]
  },
  {
   "cell_type": "code",
   "execution_count": null,
   "metadata": {
    "dotnet_interactive": {
     "language": "csharp"
    }
   },
   "outputs": [],
   "source": [
    "Single one = 1;\n",
    "Single three = 3;\n",
    "Single x = one / three;\n",
    "Single result = 3 * x;\n",
    "Console.WriteLine(result == 1.0);\n",
    "Console.WriteLine(result > 1.0);\n",
    "Console.WriteLine(result < 1.0);\n",
    "Console.WriteLine(Math.Round(result, 7) == 1);"
   ]
  },
  {
   "cell_type": "markdown",
   "metadata": {
    "dotnet_interactive": {
     "language": "markdown"
    }
   },
   "source": [
    "One more time, this time with only `double` values"
   ]
  },
  {
   "cell_type": "code",
   "execution_count": null,
   "metadata": {
    "dotnet_interactive": {
     "language": "csharp"
    }
   },
   "outputs": [],
   "source": [
    "double one = 1;\n",
    "double three = 3;\n",
    "double x = one / three;\n",
    "double result = 3 * x;\n",
    "Console.WriteLine(result == 1.0);\n",
    "Console.WriteLine(result > 1.0);\n",
    "Console.WriteLine(result < 1.0);\n",
    "Console.WriteLine(Math.Round(result, 7) == 1);"
   ]
  },
  {
   "cell_type": "markdown",
   "metadata": {
    "dotnet_interactive": {
     "language": "markdown"
    }
   },
   "source": [
    "Let's try this again, but with 10 parts"
   ]
  },
  {
   "cell_type": "code",
   "execution_count": null,
   "metadata": {
    "dotnet_interactive": {
     "language": "csharp"
    }
   },
   "outputs": [],
   "source": [
    "double x = .1;\n",
    "double result = 10 * x;\n",
    "double result2 = x + x + x + x + x + x + x + x + x + x;\n",
    "Console.WriteLine(result == 1);\n",
    "Console.WriteLine(result2 != 1);\n",
    "Console.WriteLine(result == result2);\n",
    "\n",
    "// Console.WriteLine(\"{0} - {1}\", result, result2);"
   ]
  }
 ],
 "metadata": {
  "kernelspec": {
   "display_name": ".NET (C#)",
   "language": "C#",
   "name": ".net-csharp"
  },
  "language_info": {
   "name": "C#"
  }
 },
 "nbformat": 4,
 "nbformat_minor": 2
}