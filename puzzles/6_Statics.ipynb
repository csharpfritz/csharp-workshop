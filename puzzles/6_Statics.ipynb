{
 "cells": [
  {
   "cell_type": "markdown",
   "metadata": {
    "dotnet_interactive": {
     "language": "markdown"
    }
   },
   "source": [
    "# Static Classes and Inheritance \n",
    "\n",
    "What happens when one class inherits from the other and interacts with static variables in the class?\n",
    "\n",
    "Let's set up two classes, `FooA` and `FooB` where `FooB` is a descendant of `FooA`:"
   ]
  },
  {
   "cell_type": "code",
   "execution_count": null,
   "metadata": {
    "dotnet_interactive": {
     "language": "csharp"
    }
   },
   "outputs": [],
   "source": [
    "public class FooA\n",
    "{\n",
    "    public static int i = 0;\n",
    "    public static int Bar() {\n",
    "        i += 1;\n",
    "        return i; }\n",
    "}\n",
    "\n",
    "public class FooB : FooA\n",
    "{\n",
    "    public static int i = 0;\n",
    "    public static int Bar()\n",
    "    {\n",
    "        i += 1;\n",
    "        return i;\n",
    "    }\n",
    "}"
   ]
  },
  {
   "cell_type": "markdown",
   "metadata": {
    "dotnet_interactive": {
     "language": "markdown"
    }
   },
   "source": [
    "Let's execute `Bar` in each of the classes and inspect the results: "
   ]
  },
  {
   "cell_type": "code",
   "execution_count": null,
   "metadata": {
    "dotnet_interactive": {
     "language": "csharp"
    }
   },
   "outputs": [],
   "source": [
    "FooA.Bar();\n",
    "FooB.Bar();\n",
    "FooA.Bar();"
   ]
  },
  {
   "cell_type": "markdown",
   "metadata": {
    "dotnet_interactive": {
     "language": "markdown"
    }
   },
   "source": [
    "What is `FooA.i` and what is `FooB.i`?"
   ]
  },
  {
   "cell_type": "code",
   "execution_count": null,
   "metadata": {
    "dotnet_interactive": {
     "language": "csharp"
    }
   },
   "outputs": [],
   "source": [
    "Console.WriteLine($\"FooA.i: {FooA.i}\");\n",
    "Console.WriteLine($\"FooB.i: {FooB.i}\");"
   ]
  }
 ],
 "metadata": {
  "kernelspec": {
   "display_name": ".NET (C#)",
   "language": "C#",
   "name": ".net-csharp"
  },
  "language_info": {
   "name": "C#"
  }
 },
 "nbformat": 4,
 "nbformat_minor": 2
}