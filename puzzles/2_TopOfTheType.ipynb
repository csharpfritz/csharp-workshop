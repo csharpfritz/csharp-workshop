{
 "cells": [
  {
   "cell_type": "markdown",
   "metadata": {
    "dotnet_interactive": {
     "language": "markdown"
    }
   },
   "source": [
    "# Top of the Type\n",
    "\n",
    "We know there are maximum values for our standard value types in C# (`int`, `double`, `single`, `decimal`) but what happens when you attempt to store a larger value in that type?\n",
    "\n",
    "Let's look at the max value of `int` to start "
   ]
  },
  {
   "cell_type": "code",
   "execution_count": null,
   "metadata": {
    "dotnet_interactive": {
     "language": "csharp"
    }
   },
   "outputs": [
    {
     "data": {
      "text/plain": [
       "2147483647\n"
      ]
     },
     "output_type": "unknown"
    }
   ],
   "source": [
    "Console.WriteLine(int.MaxValue);"
   ]
  },
  {
   "cell_type": "code",
   "execution_count": null,
   "metadata": {
    "dotnet_interactive": {
     "language": "csharp"
    }
   },
   "outputs": [
    {
     "data": {
      "text/plain": [
       "False\n"
      ]
     },
     "output_type": "unknown"
    },
    {
     "data": {
      "text/plain": [
       "-2147483648\n"
      ]
     },
     "output_type": "unknown"
    }
   ],
   "source": [
    "int top = int.MaxValue;\n",
    "int next = top + 1;\n",
    "\n",
    "// Guess what you think the value of `next` is\n",
    "int guessedValue = 0;\n",
    "\n",
    "Console.WriteLine(next == guessedValue);\n",
    "Console.WriteLine(next);"
   ]
  },
  {
   "cell_type": "markdown",
   "metadata": {
    "dotnet_interactive": {
     "language": "markdown"
    }
   },
   "source": [
    "That was a tricky one... let's take a look at double.  The max value for double is:"
   ]
  },
  {
   "cell_type": "code",
   "execution_count": null,
   "metadata": {
    "dotnet_interactive": {
     "language": "csharp"
    }
   },
   "outputs": [
    {
     "data": {
      "text/plain": [
       "1.7976931348623157E+308\n"
      ]
     },
     "output_type": "unknown"
    }
   ],
   "source": [
    "double top = double.MaxValue;\n",
    "Console.WriteLine(top);"
   ]
  },
  {
   "cell_type": "code",
   "execution_count": null,
   "metadata": {
    "dotnet_interactive": {
     "language": "csharp"
    }
   },
   "outputs": [
    {
     "data": {
      "text/plain": [
       "Next is infinity?  False\n"
      ]
     },
     "output_type": "unknown"
    },
    {
     "data": {
      "text/plain": [
       "1.7976931348623157E+308\n"
      ]
     },
     "output_type": "unknown"
    }
   ],
   "source": [
    "double next = top + 1;\n",
    "Console.WriteLine($\"Next is infinity?  {double.IsInfinity(next)}\");\n",
    "Console.WriteLine(next)"
   ]
  },
  {
   "cell_type": "markdown",
   "metadata": {
    "dotnet_interactive": {
     "language": "markdown"
    }
   },
   "source": [
    "Let's look at `single` next.  We know that its max value is:"
   ]
  },
  {
   "cell_type": "code",
   "execution_count": null,
   "metadata": {
    "dotnet_interactive": {
     "language": "csharp"
    }
   },
   "outputs": [
    {
     "data": {
      "text/plain": [
       "3.4028235E+38\n"
      ]
     },
     "output_type": "unknown"
    }
   ],
   "source": [
    "Single top = Single.MaxValue;\n",
    "Console.WriteLine(top);"
   ]
  },
  {
   "cell_type": "code",
   "execution_count": null,
   "metadata": {
    "dotnet_interactive": {
     "language": "csharp"
    }
   },
   "outputs": [
    {
     "data": {
      "text/plain": [
       "True\n"
      ]
     },
     "output_type": "unknown"
    }
   ],
   "source": [
    "Single next = top + 1E32F;\n",
    "Console.WriteLine(Single.IsInfinity(next));"
   ]
  },
  {
   "cell_type": "markdown",
   "metadata": {
    "dotnet_interactive": {
     "language": "markdown"
    }
   },
   "source": [
    "What about `decimal`?  The maximum value for decimal is:"
   ]
  },
  {
   "cell_type": "code",
   "execution_count": null,
   "metadata": {
    "dotnet_interactive": {
     "language": "csharp"
    }
   },
   "outputs": [
    {
     "data": {
      "text/plain": [
       "79228162514264337593543950335\n"
      ]
     },
     "output_type": "unknown"
    }
   ],
   "source": [
    "decimal top = decimal.MaxValue;\n",
    "Console.WriteLine(top);"
   ]
  },
  {
   "cell_type": "code",
   "execution_count": null,
   "metadata": {
    "dotnet_interactive": {
     "language": "csharp"
    }
   },
   "outputs": [
    {
     "data": {
      "application/vnd.code.notebook.error": {
       "message": "System.OverflowException: Value was either too large or too small for a Decimal.\n   at System.Number.ThrowOverflowException(TypeCode type)\n   at System.Decimal.DecCalc.DecAddSub(DecCalc& d1, DecCalc& d2, Boolean sign)\n   at System.Decimal.op_Addition(Decimal d1, Decimal d2)\n   at Submission#12.<<Initialize>>d__0.MoveNext()\n--- End of stack trace from previous location ---\n   at Microsoft.CodeAnalysis.Scripting.ScriptExecutionState.RunSubmissionsAsync[TResult](ImmutableArray`1 precedingExecutors, Func`2 currentExecutor, StrongBox`1 exceptionHolderOpt, Func`2 catchExceptionOpt, CancellationToken cancellationToken)",
       "name": "Error"
      }
     },
     "output_type": "unknown"
    }
   ],
   "source": [
    "decimal next = top + 1;\n",
    "Console.WriteLine(next);"
   ]
  },
  {
   "cell_type": "markdown",
   "metadata": {
    "dotnet_interactive": {
     "language": "markdown"
    }
   },
   "source": [
    "Let's use the [checked feature](https://docs.microsoft.com/dotnet/csharp/language-reference/keywords/checked) to explicitly enable overflow checking"
   ]
  },
  {
   "cell_type": "code",
   "execution_count": null,
   "metadata": {
    "dotnet_interactive": {
     "language": "csharp"
    }
   },
   "outputs": [
    {
     "data": {
      "application/vnd.code.notebook.error": {
       "message": "System.OverflowException: Arithmetic operation resulted in an overflow.\n   at Submission#19.<<Initialize>>d__0.MoveNext()\n--- End of stack trace from previous location ---\n   at Microsoft.CodeAnalysis.Scripting.ScriptExecutionState.RunSubmissionsAsync[TResult](ImmutableArray`1 precedingExecutors, Func`2 currentExecutor, StrongBox`1 exceptionHolderOpt, Func`2 catchExceptionOpt, CancellationToken cancellationToken)",
       "name": "Error"
      }
     },
     "output_type": "unknown"
    }
   ],
   "source": [
    "uint top = uint.MaxValue;\n",
    "uint next;\n",
    "checked {\n",
    "    next = top+1;\n",
    "}\n"
   ]
  },
  {
   "cell_type": "markdown",
   "metadata": {
    "dotnet_interactive": {
     "language": "markdown"
    }
   },
   "source": [
    "Let's move that out to a method and interact with it:"
   ]
  },
  {
   "cell_type": "code",
   "execution_count": null,
   "metadata": {
    "dotnet_interactive": {
     "language": "csharp"
    }
   },
   "outputs": [
    {
     "data": {
      "text/plain": [
       "0\n"
      ]
     },
     "output_type": "unknown"
    }
   ],
   "source": [
    "private uint CalcNumber(uint input) {\n",
    "\n",
    "//checked { \n",
    "\t\treturn input + 1; \n",
    "// }\n",
    "}\n",
    "\n",
    "uint top = uint.MaxValue;\n",
    "uint next;\n",
    "checked {\n",
    "    next = CalcNumber(top);\n",
    "}\n",
    "\n",
    "Console.WriteLine(next);"
   ]
  }
 ],
 "metadata": {
  "kernelspec": {
   "display_name": ".NET (C#)",
   "language": "C#",
   "name": ".net-csharp"
  },
  "language_info": {
   "file_extension": ".cs",
   "mimetype": "text/x-csharp",
   "name": "C#",
   "pygments_lexer": "csharp",
   "version": "9.0"
  },
  "orig_nbformat": 2
 },
 "nbformat": 4,
 "nbformat_minor": 2
}