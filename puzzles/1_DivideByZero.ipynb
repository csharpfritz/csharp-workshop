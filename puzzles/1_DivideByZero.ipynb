{
 "cells": [
  {
   "cell_type": "markdown",
   "metadata": {
    "dotnet_interactive": {
     "language": "markdown"
    }
   },
   "source": [
    "# Dividing By Zero\n",
    "\n",
    "We all know that mathematically speaking, dividing by zero is an illegal operation.  Right?\n",
    "\n",
    "Let's look at dividing integers first:"
   ]
  },
  {
   "cell_type": "code",
   "execution_count": null,
   "metadata": {
    "dotnet_interactive": {
     "language": "csharp"
    }
   },
   "outputs": [
    {
     "data": {
      "application/vnd.code.notebook.error": {
       "message": "System.DivideByZeroException: Attempted to divide by zero.\n   at Submission#3.<<Initialize>>d__0.MoveNext()\n--- End of stack trace from previous location ---\n   at Microsoft.CodeAnalysis.Scripting.ScriptExecutionState.RunSubmissionsAsync[TResult](ImmutableArray`1 precedingExecutors, Func`2 currentExecutor, StrongBox`1 exceptionHolderOpt, Func`2 catchExceptionOpt, CancellationToken cancellationToken)",
       "name": "Error"
      }
     },
     "output_type": "unknown"
    }
   ],
   "source": [
    "int three = 3;\n",
    "int zero = 0;\n",
    "Console.WriteLine($\"{three / zero}\");"
   ]
  },
  {
   "cell_type": "markdown",
   "metadata": {
    "dotnet_interactive": {
     "language": "markdown"
    }
   },
   "source": [
    "Dividing decimals should have the same output:"
   ]
  },
  {
   "cell_type": "code",
   "execution_count": null,
   "metadata": {
    "dotnet_interactive": {
     "language": "csharp"
    }
   },
   "outputs": [
    {
     "data": {
      "application/vnd.code.notebook.error": {
       "message": "System.DivideByZeroException: Attempted to divide by zero.\n   at System.Decimal.DecCalc.VarDecDiv(DecCalc& d1, DecCalc& d2)\n   at System.Decimal.op_Division(Decimal d1, Decimal d2)\n   at Submission#4.<<Initialize>>d__0.MoveNext()\n--- End of stack trace from previous location ---\n   at Microsoft.CodeAnalysis.Scripting.ScriptExecutionState.RunSubmissionsAsync[TResult](ImmutableArray`1 precedingExecutors, Func`2 currentExecutor, StrongBox`1 exceptionHolderOpt, Func`2 catchExceptionOpt, CancellationToken cancellationToken)",
       "name": "Error"
      }
     },
     "output_type": "unknown"
    }
   ],
   "source": [
    "decimal three = 3;\n",
    "decimal zero = 0;\n",
    "Console.WriteLine($\"{three / zero}\");"
   ]
  },
  {
   "cell_type": "markdown",
   "metadata": {
    "dotnet_interactive": {
     "language": "markdown"
    }
   },
   "source": [
    "Finally, doubles should return the same:"
   ]
  },
  {
   "cell_type": "code",
   "execution_count": null,
   "metadata": {
    "dotnet_interactive": {
     "language": "csharp"
    }
   },
   "outputs": [
    {
     "data": {
      "text/plain": [
       "True\n"
      ]
     },
     "output_type": "unknown"
    }
   ],
   "source": [
    "double three = 3;\n",
    "double zero = 0;\n",
    "Console.WriteLine($\"{double.IsInfinity(three / zero)}\");\n",
    "//Console.WriteLine(zero);"
   ]
  }
 ],
 "metadata": {
  "kernelspec": {
   "display_name": ".NET (C#)",
   "language": "C#",
   "name": ".net-csharp"
  },
  "language_info": {
   "file_extension": ".cs",
   "mimetype": "text/x-csharp",
   "name": "C#",
   "pygments_lexer": "csharp",
   "version": "9.0"
  },
  "orig_nbformat": 2
 },
 "nbformat": 4,
 "nbformat_minor": 2
}