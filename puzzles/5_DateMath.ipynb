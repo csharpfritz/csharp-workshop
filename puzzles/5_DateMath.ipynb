{
 "cells": [
  {
   "cell_type": "markdown",
   "metadata": {
    "dotnet_interactive": {
     "language": "markdown"
    }
   },
   "source": [
    "# Date Math\n",
    "\n",
    "Working with dates is EASY...  anyone can add and subtract values from a date.  \n",
    "\n",
    "*Note:* This is based on a REAL situation that happened with a .NET application and cost the parent company several million dollars in the code issue.  Let's hope **YOU** spot it\n",
    "\n",
    "Let's work with date operations on the expiration of my .NET Hotel Club membership.\n",
    "\n",
    "**Business Rule:**  Our .NET Hotel Club Membership expires every two years"
   ]
  },
  {
   "cell_type": "code",
   "execution_count": null,
   "metadata": {
    "dotnet_interactive": {
     "language": "csharp"
    }
   },
   "outputs": [],
   "source": [
    "const int ExpirationYears = 2;"
   ]
  },
  {
   "cell_type": "markdown",
   "metadata": {
    "dotnet_interactive": {
     "language": "markdown"
    }
   },
   "source": [
    "I wrote the original routines for the .NET Hotel Club membership system to calculate your club expiration.  Everything was working great with this method:"
   ]
  },
  {
   "cell_type": "code",
   "execution_count": null,
   "metadata": {
    "dotnet_interactive": {
     "language": "csharp"
    }
   },
   "outputs": [
    {
     "data": {
      "text/plain": [
       "If I bought a membership 2/29/2020, it would expire: 2/28/2022\n"
      ]
     },
     "output_type": "unknown"
    }
   ],
   "source": [
    "public DateTime CalculateExpiration(DateTime membershipStartDate) \n",
    "{\n",
    "    // var expirationDate = new DateTime(\n",
    "    //     membershipStartDate.Year + ExpirationYears,\n",
    "    //     membershipStartDate.Month,\n",
    "    //     membershipStartDate.Day\n",
    "    // );\n",
    "\t\tvar expirationDate = membershipStartDate.Add(new TimeSpan(730, 0, 0, 0));  //.AddYears(ExpirationYears);\n",
    "\t\treturn expirationDate;\n",
    "}\n",
    "\n",
    "var datePurchased = new DateTime(2020, 2, 29);\n",
    "Console.WriteLine($\"If I bought a membership {datePurchased.ToShortDateString()}, \" +\n",
    "    $\"it would expire: {CalculateExpiration(datePurchased).ToShortDateString()}\")"
   ]
  },
  {
   "cell_type": "markdown",
   "metadata": {
    "dotnet_interactive": {
     "language": "markdown"
    }
   },
   "source": [
    "A few years later, the Membership Club got very upset at me because they said my code no longer works.  Can you spot the error?"
   ]
  }
 ],
 "metadata": {
  "kernelspec": {
   "display_name": ".NET (C#)",
   "language": "C#",
   "name": ".net-csharp"
  },
  "language_info": {
   "file_extension": ".cs",
   "mimetype": "text/x-csharp",
   "name": "C#",
   "pygments_lexer": "csharp",
   "version": "9.0"
  },
  "orig_nbformat": 2
 },
 "nbformat": 4,
 "nbformat_minor": 2
}