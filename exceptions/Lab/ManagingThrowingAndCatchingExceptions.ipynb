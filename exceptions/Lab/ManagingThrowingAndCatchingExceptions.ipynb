{
 "cells": [
  {
   "cell_type": "markdown",
   "metadata": {
    "dotnet_interactive": {
     "language": "markdown"
    }
   },
   "source": [
    "# Managing Throwing and Catching and Exceptions\n",
    "\n",
    "In this workbook, we're going to work with a sample that describes a cashier's till at a store.  We'll look at what happens when the cashier makes change for orders, the exceptions thrown and the danger they create.\n",
    "\n",
    "First, let's describe the `Till` class"
   ]
  },
  {
   "cell_type": "code",
   "execution_count": null,
   "metadata": {
    "dotnet_interactive": {
     "language": "csharp"
    }
   },
   "outputs": [],
   "source": [
    "public class Till\n",
    "{\n",
    "    private int OneDollarBills;\n",
    "    private int FiveDollarBills;\n",
    "    private int TenDollarBills;\n",
    "    private int TwentyDollarBills;\n",
    "\n",
    "    public Till(int ones, int fives, int tens = 0, int twenties = 0) =>\n",
    "        (OneDollarBills, FiveDollarBills, TenDollarBills, TwentyDollarBills) =\n",
    "        (ones, fives, tens, twenties);\n",
    "\n",
    "    public void MakeChange(int cost, int twenties, int tens = 0, int fives = 0, int ones = 0)\n",
    "    {\n",
    "\n",
    "\t\t\tint amountPaid = twenties * 20 + tens * 10 + fives * 5 + ones;\n",
    "\t\t\tint changeNeeded = amountPaid - cost;\n",
    "\t\t\tif (changeNeeded < 0) {\n",
    "\n",
    "\t\t\t\tthrow new NotPayingEnoughException();\n",
    "\t\t\t\t//throw new InvalidOperationException(\"Not enough money provided\");\n",
    "\n",
    "\t\t\t}\n",
    "\n",
    "\t\t\t// TwentyDollarBills += twenties;\n",
    "    \t// TenDollarBills += tens;\n",
    "      // FiveDollarBills += fives;\n",
    "      // OneDollarBills += ones;\n",
    "\n",
    "\t\t\tvar TwentyDollarBillsInHand = TwentyDollarBills + twenties;\n",
    "    \tvar TenDollarBillsInHand = TenDollarBills + tens;\n",
    "      var FiveDollarBillsInHand = FiveDollarBills + fives;\n",
    "      var OneDollarBillsInHand = OneDollarBills + ones;\n",
    "\n",
    "\n",
    "        Console.WriteLine(\"Cashier Returns:\");\n",
    "\n",
    "        while ((changeNeeded > 19) && (TwentyDollarBillsInHand > 0))\n",
    "        {\n",
    "\t\t\t\t\t\tTwentyDollarBillsInHand--;\n",
    "            changeNeeded -= 20;\n",
    "            Console.WriteLine(\"\\t A twenty\");\n",
    "        }\n",
    "\n",
    "        while ((changeNeeded > 9) && (TenDollarBillsInHand > 0))\n",
    "        {\n",
    "            TenDollarBillsInHand--;\n",
    "            changeNeeded -= 10;\n",
    "            Console.WriteLine(\"\\t A tenner\");\n",
    "        }\n",
    "\n",
    "        while ((changeNeeded > 4) && (FiveDollarBillsInHand > 0))\n",
    "        {\n",
    "            FiveDollarBillsInHand--;\n",
    "            changeNeeded -= 5;\n",
    "            Console.WriteLine(\"\\t A fiver\");\n",
    "        }\n",
    "\n",
    "        while ((changeNeeded > 0) && (OneDollarBillsInHand > 0))\n",
    "        {\n",
    "            OneDollarBillsInHand--;\n",
    "            changeNeeded--;\n",
    "            Console.WriteLine(\"\\t A one\");\n",
    "        }\n",
    "\n",
    "        if (changeNeeded > 0)\n",
    "            throw new InvalidOperationException(\"Can't make change. Do you have anything smaller?\");\n",
    "\t\t\t\t\n",
    "\t\t\t\tTwentyDollarBills = TwentyDollarBillsInHand;\n",
    "\t\t\t\tTenDollarBills = TenDollarBillsInHand;\n",
    "\t\t\t\tFiveDollarBills = FiveDollarBillsInHand;\n",
    "\t\t\t\tOneDollarBills = OneDollarBillsInHand;\n",
    "\n",
    "    }\n",
    "\n",
    "    public void LogTillStatus()\n",
    "    {\n",
    "        Console.WriteLine(\"The till currently has:\");\n",
    "        Console.WriteLine($\"{TwentyDollarBills * 20} in twenties\");\n",
    "        Console.WriteLine($\"{TenDollarBills * 10} in tens\");\n",
    "        Console.WriteLine($\"{FiveDollarBills * 5} in fives\");\n",
    "        Console.WriteLine($\"{OneDollarBills} in ones\");\n",
    "        Console.WriteLine();\n",
    "    }\n",
    "\n",
    "    public override string ToString() =>\n",
    "        $\"The till has {TwentyDollarBills * 20 + TenDollarBills * 10 + FiveDollarBills * 5 + OneDollarBills} dollars\";\n",
    "}\n",
    "\n",
    "public class NotPayingEnoughException : ApplicationException {\n",
    "\n",
    "}\n"
   ]
  },
  {
   "cell_type": "markdown",
   "metadata": {
    "dotnet_interactive": {
     "language": "markdown"
    }
   },
   "source": [
    "Now that we have our `Till`, let's set up our scenario to experiment with."
   ]
  },
  {
   "cell_type": "code",
   "execution_count": null,
   "metadata": {
    "dotnet_interactive": {
     "language": "csharp"
    }
   },
   "outputs": [
    {
     "data": {
      "text/plain": [
       "The till currently has:\n"
      ]
     },
     "output_type": "unknown"
    },
    {
     "data": {
      "text/plain": [
       "20 in twenties\n"
      ]
     },
     "output_type": "unknown"
    },
    {
     "data": {
      "text/plain": [
       "100 in tens\n"
      ]
     },
     "output_type": "unknown"
    },
    {
     "data": {
      "text/plain": [
       "100 in fives\n"
      ]
     },
     "output_type": "unknown"
    },
    {
     "data": {
      "text/plain": [
       "0 in ones\n"
      ]
     },
     "output_type": "unknown"
    },
    {
     "data": {
      "text/plain": [
       "\n"
      ]
     },
     "output_type": "unknown"
    },
    {
     "data": {
      "text/plain": [
       "The till has 220 dollars\n"
      ]
     },
     "output_type": "unknown"
    },
    {
     "data": {
      "text/plain": [
       "Expected till value: 220\n"
      ]
     },
     "output_type": "unknown"
    }
   ],
   "source": [
    "// TheBank is our cashier's till we are working with and we'll give it some cash to start with\n",
    "var theBank = new Till(ones: 0, fives: 20, tens: 10, twenties: 1);\n",
    "\n",
    "var expectedTotal = 0 * 1 + 20 * 1 + 10 * 10 + 5 * 20;\n",
    "\n",
    "theBank.LogTillStatus();\n",
    "Console.WriteLine(theBank);\n",
    "Console.WriteLine($\"Expected till value: {expectedTotal}\");"
   ]
  },
  {
   "cell_type": "markdown",
   "metadata": {},
   "source": [
    "Now that we have set an initial value for the contents of `TheBank`, let's start working with customers and making change.\n",
    "\n",
    "We'll define a number of transactions to run through `TheBank` and also setup a random number generator to give us the feeling of random items being purchased and we'll make change for those customers"
   ]
  },
  {
   "cell_type": "code",
   "execution_count": null,
   "metadata": {
    "dotnet_interactive": {
     "language": "csharp"
    }
   },
   "outputs": [
    {
     "data": {
      "text/plain": [
       "Customer making a $16 purchase\n"
      ]
     },
     "output_type": "unknown"
    },
    {
     "data": {
      "text/plain": [
       "\t Using 1 twenties\n"
      ]
     },
     "output_type": "unknown"
    },
    {
     "data": {
      "text/plain": [
       "\t Using 1 tenners\n"
      ]
     },
     "output_type": "unknown"
    },
    {
     "data": {
      "text/plain": [
       "\t Using 0 fivers\n"
      ]
     },
     "output_type": "unknown"
    },
    {
     "data": {
      "text/plain": [
       "\t Using 0 silver dollar coins\n"
      ]
     },
     "output_type": "unknown"
    },
    {
     "data": {
      "text/plain": [
       "Cashier Returns:\n"
      ]
     },
     "output_type": "unknown"
    },
    {
     "data": {
      "text/plain": [
       "\t A tenner\n"
      ]
     },
     "output_type": "unknown"
    },
    {
     "data": {
      "text/plain": [
       "\t A one\n"
      ]
     },
     "output_type": "unknown"
    },
    {
     "data": {
      "text/plain": [
       "Could not make transaction: Can't make change. Do you have anything smaller?\n"
      ]
     },
     "output_type": "unknown"
    },
    {
     "data": {
      "text/plain": [
       "The till has 421 dollars\n"
      ]
     },
     "output_type": "unknown"
    },
    {
     "data": {
      "text/plain": [
       "Expected till value: 421\n"
      ]
     },
     "output_type": "unknown"
    },
    {
     "data": {
      "text/plain": [
       "  ------------------------------------------\n"
      ]
     },
     "output_type": "unknown"
    },
    {
     "data": {
      "text/plain": [
       "Customer making a $6 purchase\n"
      ]
     },
     "output_type": "unknown"
    },
    {
     "data": {
      "text/plain": [
       "\t Using 1 twenties\n"
      ]
     },
     "output_type": "unknown"
    },
    {
     "data": {
      "text/plain": [
       "\t Using 0 tenners\n"
      ]
     },
     "output_type": "unknown"
    },
    {
     "data": {
      "text/plain": [
       "\t Using 0 fivers\n"
      ]
     },
     "output_type": "unknown"
    },
    {
     "data": {
      "text/plain": [
       "\t Using 0 silver dollar coins\n"
      ]
     },
     "output_type": "unknown"
    },
    {
     "data": {
      "text/plain": [
       "Cashier Returns:\n"
      ]
     },
     "output_type": "unknown"
    },
    {
     "data": {
      "text/plain": [
       "\t A tenner\n"
      ]
     },
     "output_type": "unknown"
    },
    {
     "data": {
      "text/plain": [
       "\t A one\n"
      ]
     },
     "output_type": "unknown"
    },
    {
     "data": {
      "text/plain": [
       "Could not make transaction: Can't make change. Do you have anything smaller?\n"
      ]
     },
     "output_type": "unknown"
    },
    {
     "data": {
      "text/plain": [
       "The till has 421 dollars\n"
      ]
     },
     "output_type": "unknown"
    },
    {
     "data": {
      "text/plain": [
       "Expected till value: 421\n"
      ]
     },
     "output_type": "unknown"
    },
    {
     "data": {
      "text/plain": [
       "  ------------------------------------------\n"
      ]
     },
     "output_type": "unknown"
    },
    {
     "data": {
      "text/plain": [
       "Customer making a $38 purchase\n"
      ]
     },
     "output_type": "unknown"
    },
    {
     "data": {
      "text/plain": [
       "\t Using 2 twenties\n"
      ]
     },
     "output_type": "unknown"
    },
    {
     "data": {
      "text/plain": [
       "\t Using 1 tenners\n"
      ]
     },
     "output_type": "unknown"
    },
    {
     "data": {
      "text/plain": [
       "\t Using 1 fivers\n"
      ]
     },
     "output_type": "unknown"
    },
    {
     "data": {
      "text/plain": [
       "\t Using 0 silver dollar coins\n"
      ]
     },
     "output_type": "unknown"
    },
    {
     "data": {
      "text/plain": [
       "Cashier Returns:\n"
      ]
     },
     "output_type": "unknown"
    },
    {
     "data": {
      "text/plain": [
       "\t A tenner\n"
      ]
     },
     "output_type": "unknown"
    },
    {
     "data": {
      "text/plain": [
       "\t A fiver\n"
      ]
     },
     "output_type": "unknown"
    },
    {
     "data": {
      "text/plain": [
       "\t A one\n"
      ]
     },
     "output_type": "unknown"
    },
    {
     "data": {
      "text/plain": [
       "Could not make transaction: Can't make change. Do you have anything smaller?\n"
      ]
     },
     "output_type": "unknown"
    },
    {
     "data": {
      "text/plain": [
       "The till has 421 dollars\n"
      ]
     },
     "output_type": "unknown"
    },
    {
     "data": {
      "text/plain": [
       "Expected till value: 421\n"
      ]
     },
     "output_type": "unknown"
    },
    {
     "data": {
      "text/plain": [
       "  ------------------------------------------\n"
      ]
     },
     "output_type": "unknown"
    },
    {
     "data": {
      "text/plain": [
       "Customer making a $41 purchase\n"
      ]
     },
     "output_type": "unknown"
    },
    {
     "data": {
      "text/plain": [
       "\t Using 2 twenties\n"
      ]
     },
     "output_type": "unknown"
    },
    {
     "data": {
      "text/plain": [
       "\t Using 0 tenners\n"
      ]
     },
     "output_type": "unknown"
    },
    {
     "data": {
      "text/plain": [
       "\t Using 0 fivers\n"
      ]
     },
     "output_type": "unknown"
    },
    {
     "data": {
      "text/plain": [
       "\t Using 1 silver dollar coins\n"
      ]
     },
     "output_type": "unknown"
    },
    {
     "data": {
      "text/plain": [
       "Cashier Returns:\n"
      ]
     },
     "output_type": "unknown"
    },
    {
     "data": {
      "text/plain": [
       "The till has 462 dollars\n"
      ]
     },
     "output_type": "unknown"
    },
    {
     "data": {
      "text/plain": [
       "Expected till value: 462\n"
      ]
     },
     "output_type": "unknown"
    },
    {
     "data": {
      "text/plain": [
       "  ------------------------------------------\n"
      ]
     },
     "output_type": "unknown"
    },
    {
     "data": {
      "text/plain": [
       "Customer making a $31 purchase\n"
      ]
     },
     "output_type": "unknown"
    },
    {
     "data": {
      "text/plain": [
       "\t Using 2 twenties\n"
      ]
     },
     "output_type": "unknown"
    },
    {
     "data": {
      "text/plain": [
       "\t Using 0 tenners\n"
      ]
     },
     "output_type": "unknown"
    },
    {
     "data": {
      "text/plain": [
       "\t Using 0 fivers\n"
      ]
     },
     "output_type": "unknown"
    },
    {
     "data": {
      "text/plain": [
       "\t Using 1 silver dollar coins\n"
      ]
     },
     "output_type": "unknown"
    },
    {
     "data": {
      "text/plain": [
       "Cashier Returns:\n"
      ]
     },
     "output_type": "unknown"
    },
    {
     "data": {
      "text/plain": [
       "\t A tenner\n"
      ]
     },
     "output_type": "unknown"
    },
    {
     "data": {
      "text/plain": [
       "The till has 493 dollars\n"
      ]
     },
     "output_type": "unknown"
    },
    {
     "data": {
      "text/plain": [
       "Expected till value: 493\n"
      ]
     },
     "output_type": "unknown"
    },
    {
     "data": {
      "text/plain": [
       "  ------------------------------------------\n"
      ]
     },
     "output_type": "unknown"
    },
    {
     "data": {
      "text/plain": [
       "Customer making a $12 purchase\n"
      ]
     },
     "output_type": "unknown"
    },
    {
     "data": {
      "text/plain": [
       "\t Using 1 twenties\n"
      ]
     },
     "output_type": "unknown"
    },
    {
     "data": {
      "text/plain": [
       "\t Using 0 tenners\n"
      ]
     },
     "output_type": "unknown"
    },
    {
     "data": {
      "text/plain": [
       "\t Using 0 fivers\n"
      ]
     },
     "output_type": "unknown"
    },
    {
     "data": {
      "text/plain": [
       "\t Using 0 silver dollar coins\n"
      ]
     },
     "output_type": "unknown"
    },
    {
     "data": {
      "text/plain": [
       "Cashier Returns:\n"
      ]
     },
     "output_type": "unknown"
    },
    {
     "data": {
      "text/plain": [
       "\t A fiver\n"
      ]
     },
     "output_type": "unknown"
    },
    {
     "data": {
      "text/plain": [
       "\t A one\n"
      ]
     },
     "output_type": "unknown"
    },
    {
     "data": {
      "text/plain": [
       "\t A one\n"
      ]
     },
     "output_type": "unknown"
    },
    {
     "data": {
      "text/plain": [
       "\t A one\n"
      ]
     },
     "output_type": "unknown"
    },
    {
     "data": {
      "text/plain": [
       "The till has 505 dollars\n"
      ]
     },
     "output_type": "unknown"
    },
    {
     "data": {
      "text/plain": [
       "Expected till value: 505\n"
      ]
     },
     "output_type": "unknown"
    },
    {
     "data": {
      "text/plain": [
       "  ------------------------------------------\n"
      ]
     },
     "output_type": "unknown"
    },
    {
     "data": {
      "text/plain": [
       "Customer making a $6 purchase\n"
      ]
     },
     "output_type": "unknown"
    },
    {
     "data": {
      "text/plain": [
       "\t Using 1 twenties\n"
      ]
     },
     "output_type": "unknown"
    },
    {
     "data": {
      "text/plain": [
       "\t Using 0 tenners\n"
      ]
     },
     "output_type": "unknown"
    },
    {
     "data": {
      "text/plain": [
       "\t Using 0 fivers\n"
      ]
     },
     "output_type": "unknown"
    },
    {
     "data": {
      "text/plain": [
       "\t Using 0 silver dollar coins\n"
      ]
     },
     "output_type": "unknown"
    },
    {
     "data": {
      "text/plain": [
       "Cashier Returns:\n"
      ]
     },
     "output_type": "unknown"
    },
    {
     "data": {
      "text/plain": [
       "\t A tenner\n"
      ]
     },
     "output_type": "unknown"
    },
    {
     "data": {
      "text/plain": [
       "Could not make transaction: Can't make change. Do you have anything smaller?\n"
      ]
     },
     "output_type": "unknown"
    },
    {
     "data": {
      "text/plain": [
       "The till has 505 dollars\n"
      ]
     },
     "output_type": "unknown"
    },
    {
     "data": {
      "text/plain": [
       "Expected till value: 505\n"
      ]
     },
     "output_type": "unknown"
    },
    {
     "data": {
      "text/plain": [
       "  ------------------------------------------\n"
      ]
     },
     "output_type": "unknown"
    },
    {
     "data": {
      "text/plain": [
       "Customer making a $6 purchase\n"
      ]
     },
     "output_type": "unknown"
    },
    {
     "data": {
      "text/plain": [
       "\t Using 1 twenties\n"
      ]
     },
     "output_type": "unknown"
    },
    {
     "data": {
      "text/plain": [
       "\t Using 0 tenners\n"
      ]
     },
     "output_type": "unknown"
    },
    {
     "data": {
      "text/plain": [
       "\t Using 0 fivers\n"
      ]
     },
     "output_type": "unknown"
    },
    {
     "data": {
      "text/plain": [
       "\t Using 0 silver dollar coins\n"
      ]
     },
     "output_type": "unknown"
    },
    {
     "data": {
      "text/plain": [
       "Cashier Returns:\n"
      ]
     },
     "output_type": "unknown"
    },
    {
     "data": {
      "text/plain": [
       "\t A tenner\n"
      ]
     },
     "output_type": "unknown"
    },
    {
     "data": {
      "text/plain": [
       "Could not make transaction: Can't make change. Do you have anything smaller?\n"
      ]
     },
     "output_type": "unknown"
    },
    {
     "data": {
      "text/plain": [
       "The till has 505 dollars\n"
      ]
     },
     "output_type": "unknown"
    },
    {
     "data": {
      "text/plain": [
       "Expected till value: 505\n"
      ]
     },
     "output_type": "unknown"
    },
    {
     "data": {
      "text/plain": [
       "  ------------------------------------------\n"
      ]
     },
     "output_type": "unknown"
    },
    {
     "data": {
      "text/plain": [
       "Customer making a $10 purchase\n"
      ]
     },
     "output_type": "unknown"
    },
    {
     "data": {
      "text/plain": [
       "\t Using 1 twenties\n"
      ]
     },
     "output_type": "unknown"
    },
    {
     "data": {
      "text/plain": [
       "\t Using 0 tenners\n"
      ]
     },
     "output_type": "unknown"
    },
    {
     "data": {
      "text/plain": [
       "\t Using 0 fivers\n"
      ]
     },
     "output_type": "unknown"
    },
    {
     "data": {
      "text/plain": [
       "\t Using 0 silver dollar coins\n"
      ]
     },
     "output_type": "unknown"
    },
    {
     "data": {
      "text/plain": [
       "Cashier Returns:\n"
      ]
     },
     "output_type": "unknown"
    },
    {
     "data": {
      "text/plain": [
       "\t A tenner\n"
      ]
     },
     "output_type": "unknown"
    },
    {
     "data": {
      "text/plain": [
       "The till has 515 dollars\n"
      ]
     },
     "output_type": "unknown"
    },
    {
     "data": {
      "text/plain": [
       "Expected till value: 515\n"
      ]
     },
     "output_type": "unknown"
    },
    {
     "data": {
      "text/plain": [
       "  ------------------------------------------\n"
      ]
     },
     "output_type": "unknown"
    },
    {
     "data": {
      "text/plain": [
       "Customer making a $44 purchase\n"
      ]
     },
     "output_type": "unknown"
    },
    {
     "data": {
      "text/plain": [
       "\t Using 2 twenties\n"
      ]
     },
     "output_type": "unknown"
    },
    {
     "data": {
      "text/plain": [
       "\t Using 0 tenners\n"
      ]
     },
     "output_type": "unknown"
    },
    {
     "data": {
      "text/plain": [
       "\t Using 0 fivers\n"
      ]
     },
     "output_type": "unknown"
    },
    {
     "data": {
      "text/plain": [
       "\t Using 0 silver dollar coins\n"
      ]
     },
     "output_type": "unknown"
    },
    {
     "data": {
      "text/plain": [
       "Sorry, the item costs more than you presented\n"
      ]
     },
     "output_type": "unknown"
    },
    {
     "data": {
      "text/plain": [
       "The till has 515 dollars\n"
      ]
     },
     "output_type": "unknown"
    },
    {
     "data": {
      "text/plain": [
       "Expected till value: 515\n"
      ]
     },
     "output_type": "unknown"
    },
    {
     "data": {
      "text/plain": [
       "  ------------------------------------------\n"
      ]
     },
     "output_type": "unknown"
    },
    {
     "data": {
      "text/plain": [
       "Customer making a $31 purchase\n"
      ]
     },
     "output_type": "unknown"
    },
    {
     "data": {
      "text/plain": [
       "\t Using 2 twenties\n"
      ]
     },
     "output_type": "unknown"
    },
    {
     "data": {
      "text/plain": [
       "\t Using 0 tenners\n"
      ]
     },
     "output_type": "unknown"
    },
    {
     "data": {
      "text/plain": [
       "\t Using 0 fivers\n"
      ]
     },
     "output_type": "unknown"
    },
    {
     "data": {
      "text/plain": [
       "\t Using 1 silver dollar coins\n"
      ]
     },
     "output_type": "unknown"
    },
    {
     "data": {
      "text/plain": [
       "Cashier Returns:\n"
      ]
     },
     "output_type": "unknown"
    },
    {
     "data": {
      "text/plain": [
       "\t A tenner\n"
      ]
     },
     "output_type": "unknown"
    },
    {
     "data": {
      "text/plain": [
       "The till has 546 dollars\n"
      ]
     },
     "output_type": "unknown"
    },
    {
     "data": {
      "text/plain": [
       "Expected till value: 546\n"
      ]
     },
     "output_type": "unknown"
    },
    {
     "data": {
      "text/plain": [
       "  ------------------------------------------\n"
      ]
     },
     "output_type": "unknown"
    },
    {
     "data": {
      "text/plain": [
       "Customer making a $36 purchase\n"
      ]
     },
     "output_type": "unknown"
    },
    {
     "data": {
      "text/plain": [
       "\t Using 2 twenties\n"
      ]
     },
     "output_type": "unknown"
    },
    {
     "data": {
      "text/plain": [
       "\t Using 1 tenners\n"
      ]
     },
     "output_type": "unknown"
    },
    {
     "data": {
      "text/plain": [
       "\t Using 0 fivers\n"
      ]
     },
     "output_type": "unknown"
    },
    {
     "data": {
      "text/plain": [
       "\t Using 0 silver dollar coins\n"
      ]
     },
     "output_type": "unknown"
    },
    {
     "data": {
      "text/plain": [
       "Cashier Returns:\n"
      ]
     },
     "output_type": "unknown"
    },
    {
     "data": {
      "text/plain": [
       "\t A tenner\n"
      ]
     },
     "output_type": "unknown"
    },
    {
     "data": {
      "text/plain": [
       "\t A one\n"
      ]
     },
     "output_type": "unknown"
    },
    {
     "data": {
      "text/plain": [
       "Could not make transaction: Can't make change. Do you have anything smaller?\n"
      ]
     },
     "output_type": "unknown"
    },
    {
     "data": {
      "text/plain": [
       "The till has 546 dollars\n"
      ]
     },
     "output_type": "unknown"
    },
    {
     "data": {
      "text/plain": [
       "Expected till value: 546\n"
      ]
     },
     "output_type": "unknown"
    },
    {
     "data": {
      "text/plain": [
       "  ------------------------------------------\n"
      ]
     },
     "output_type": "unknown"
    },
    {
     "data": {
      "text/plain": [
       "Customer making a $9 purchase\n"
      ]
     },
     "output_type": "unknown"
    },
    {
     "data": {
      "text/plain": [
       "\t Using 1 twenties\n"
      ]
     },
     "output_type": "unknown"
    },
    {
     "data": {
      "text/plain": [
       "\t Using 0 tenners\n"
      ]
     },
     "output_type": "unknown"
    },
    {
     "data": {
      "text/plain": [
       "\t Using 1 fivers\n"
      ]
     },
     "output_type": "unknown"
    },
    {
     "data": {
      "text/plain": [
       "\t Using 1 silver dollar coins\n"
      ]
     },
     "output_type": "unknown"
    },
    {
     "data": {
      "text/plain": [
       "Cashier Returns:\n"
      ]
     },
     "output_type": "unknown"
    },
    {
     "data": {
      "text/plain": [
       "\t A tenner\n"
      ]
     },
     "output_type": "unknown"
    },
    {
     "data": {
      "text/plain": [
       "\t A fiver\n"
      ]
     },
     "output_type": "unknown"
    },
    {
     "data": {
      "text/plain": [
       "\t A one\n"
      ]
     },
     "output_type": "unknown"
    },
    {
     "data": {
      "text/plain": [
       "\t A one\n"
      ]
     },
     "output_type": "unknown"
    },
    {
     "data": {
      "text/plain": [
       "The till has 555 dollars\n"
      ]
     },
     "output_type": "unknown"
    },
    {
     "data": {
      "text/plain": [
       "Expected till value: 555\n"
      ]
     },
     "output_type": "unknown"
    },
    {
     "data": {
      "text/plain": [
       "  ------------------------------------------\n"
      ]
     },
     "output_type": "unknown"
    },
    {
     "data": {
      "text/plain": [
       "Customer making a $8 purchase\n"
      ]
     },
     "output_type": "unknown"
    },
    {
     "data": {
      "text/plain": [
       "\t Using 1 twenties\n"
      ]
     },
     "output_type": "unknown"
    },
    {
     "data": {
      "text/plain": [
       "\t Using 0 tenners\n"
      ]
     },
     "output_type": "unknown"
    },
    {
     "data": {
      "text/plain": [
       "\t Using 1 fivers\n"
      ]
     },
     "output_type": "unknown"
    },
    {
     "data": {
      "text/plain": [
       "\t Using 0 silver dollar coins\n"
      ]
     },
     "output_type": "unknown"
    },
    {
     "data": {
      "text/plain": [
       "Cashier Returns:\n"
      ]
     },
     "output_type": "unknown"
    },
    {
     "data": {
      "text/plain": [
       "\t A tenner\n"
      ]
     },
     "output_type": "unknown"
    },
    {
     "data": {
      "text/plain": [
       "\t A fiver\n"
      ]
     },
     "output_type": "unknown"
    },
    {
     "data": {
      "text/plain": [
       "Could not make transaction: Can't make change. Do you have anything smaller?\n"
      ]
     },
     "output_type": "unknown"
    },
    {
     "data": {
      "text/plain": [
       "The till has 555 dollars\n"
      ]
     },
     "output_type": "unknown"
    },
    {
     "data": {
      "text/plain": [
       "Expected till value: 555\n"
      ]
     },
     "output_type": "unknown"
    },
    {
     "data": {
      "text/plain": [
       "  ------------------------------------------\n"
      ]
     },
     "output_type": "unknown"
    },
    {
     "data": {
      "text/plain": [
       "Customer making a $6 purchase\n"
      ]
     },
     "output_type": "unknown"
    },
    {
     "data": {
      "text/plain": [
       "\t Using 1 twenties\n"
      ]
     },
     "output_type": "unknown"
    },
    {
     "data": {
      "text/plain": [
       "\t Using 0 tenners\n"
      ]
     },
     "output_type": "unknown"
    },
    {
     "data": {
      "text/plain": [
       "\t Using 0 fivers\n"
      ]
     },
     "output_type": "unknown"
    },
    {
     "data": {
      "text/plain": [
       "\t Using 0 silver dollar coins\n"
      ]
     },
     "output_type": "unknown"
    },
    {
     "data": {
      "text/plain": [
       "Cashier Returns:\n"
      ]
     },
     "output_type": "unknown"
    },
    {
     "data": {
      "text/plain": [
       "\t A tenner\n"
      ]
     },
     "output_type": "unknown"
    },
    {
     "data": {
      "text/plain": [
       "Could not make transaction: Can't make change. Do you have anything smaller?\n"
      ]
     },
     "output_type": "unknown"
    },
    {
     "data": {
      "text/plain": [
       "The till has 555 dollars\n"
      ]
     },
     "output_type": "unknown"
    },
    {
     "data": {
      "text/plain": [
       "Expected till value: 555\n"
      ]
     },
     "output_type": "unknown"
    },
    {
     "data": {
      "text/plain": [
       "  ------------------------------------------\n"
      ]
     },
     "output_type": "unknown"
    }
   ],
   "source": [
    "int transactions = 15;\n",
    "var valueGenerator = new Random((int)DateTime.Now.Ticks);\n",
    "\n",
    "while (transactions-- > 0)\n",
    "{\n",
    "    int itemCost = valueGenerator.Next(2, 50);\n",
    "\n",
    "    int numOnes = itemCost % 2;\n",
    "    int numFives = (itemCost % 10 > 7) ? 1 : 0;\n",
    "    int numTens = (itemCost % 20 > 13) ? 1 : 0;\n",
    "    int numTwenties = (itemCost < 20) ? 1 : 2;\n",
    "\n",
    "    try\n",
    "    {\n",
    "        Console.WriteLine($\"Customer making a ${itemCost} purchase\");\n",
    "        Console.WriteLine($\"\\t Using {numTwenties} twenties\");\n",
    "        Console.WriteLine($\"\\t Using {numTens} tenners\");\n",
    "        Console.WriteLine($\"\\t Using {numFives} fivers\");\n",
    "        Console.WriteLine($\"\\t Using {numOnes} silver dollar coins\");\n",
    "\n",
    "        theBank.MakeChange(itemCost, numTwenties, numTens, numFives, numOnes);\n",
    "\n",
    "        expectedTotal += itemCost;\n",
    "    }\n",
    "\t\tcatch (NotPayingEnoughException) {\n",
    "\t\t\tConsole.WriteLine(\"Sorry, the item costs more than you presented\");\n",
    "\t\t}\n",
    "    catch (InvalidOperationException e)\n",
    "    {\n",
    "        Console.WriteLine($\"Could not make transaction: {e.Message}\");\n",
    "    } catch (Exception) {\n",
    "\t\t\t\tConsole.WriteLine(\"Something went wrong with the Till... please try again later\");\n",
    "\t\t}\n",
    "\n",
    "    Console.WriteLine(theBank);\n",
    "    Console.WriteLine($\"Expected till value: {expectedTotal}\");\n",
    "    Console.WriteLine(\"  ------------------------------------------\");\n",
    "}"
   ]
  },
  {
   "cell_type": "markdown",
   "metadata": {
    "dotnet_interactive": {
     "language": "markdown"
    }
   },
   "source": []
  }
 ],
 "metadata": {
  "kernelspec": {
   "display_name": ".NET (C#)",
   "language": "C#",
   "name": ".net-csharp"
  },
  "language_info": {
   "file_extension": ".cs",
   "mimetype": "text/x-csharp",
   "name": "C#",
   "pygments_lexer": "csharp",
   "version": "9.0"
  }
 },
 "nbformat": 4,
 "nbformat_minor": 2
}