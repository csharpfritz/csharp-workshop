{
 "cells": [
  {
   "cell_type": "markdown",
   "metadata": {
    "dotnet_interactive": {
     "language": "markdown"
    }
   },
   "source": [
    "# Managing Throwing and Catching and Exceptions\n",
    "\n",
    "In this workbook, we're going to work with a sample that describes a cashier's till at a store.  We'll look at what happens when the cashier makes change for orders, the exceptions thrown and the danger they create.\n",
    "\n",
    "First, let's describe the `Till` class"
   ]
  },
  {
   "cell_type": "code",
   "execution_count": null,
   "metadata": {
    "dotnet_interactive": {
     "language": "csharp"
    }
   },
   "outputs": [],
   "source": [
    "public class Till\n",
    "{\n",
    "    private int OneDollarBills;\n",
    "    private int FiveDollarBills;\n",
    "    private int TenDollarBills;\n",
    "    private int TwentyDollarBills;\n",
    "\n",
    "    public Till(int ones, int fives, int tens = 0, int twenties = 0) =>\n",
    "        (OneDollarBills, FiveDollarBills, TenDollarBills, TwentyDollarBills) =\n",
    "        (ones, fives, tens, twenties);\n",
    "\n",
    "    public void MakeChange(int cost, int twenties, int tens = 0, int fives = 0, int ones = 0)\n",
    "    {\n",
    "        TwentyDollarBills += twenties;\n",
    "        TenDollarBills += tens;\n",
    "        FiveDollarBills += fives;\n",
    "        OneDollarBills += ones;\n",
    "\n",
    "        int amountPaid = twenties * 20 + tens * 10 + fives * 5 + ones;\n",
    "        int changeNeeded = amountPaid - cost;\n",
    "\n",
    "        if (changeNeeded < 0)\n",
    "            throw new InvalidOperationException(\"Not enough money provided\");\n",
    "\n",
    "        Console.WriteLine(\"Cashier Returns:\");\n",
    "\n",
    "        while ((changeNeeded > 19) && (TwentyDollarBills > 0))\n",
    "        {\n",
    "            TwentyDollarBills--;\n",
    "            changeNeeded -= 20;\n",
    "            Console.WriteLine(\"\\t A twenty\");\n",
    "        }\n",
    "\n",
    "        while ((changeNeeded > 9) && (TenDollarBills > 0))\n",
    "        {\n",
    "            TenDollarBills--;\n",
    "            changeNeeded -= 10;\n",
    "            Console.WriteLine(\"\\t A tenner\");\n",
    "        }\n",
    "\n",
    "        while ((changeNeeded > 4) && (FiveDollarBills > 0))\n",
    "        {\n",
    "            FiveDollarBills--;\n",
    "            changeNeeded -= 5;\n",
    "            Console.WriteLine(\"\\t A fiver\");\n",
    "        }\n",
    "\n",
    "        while ((changeNeeded > 0) && (OneDollarBills > 0))\n",
    "        {\n",
    "            OneDollarBills--;\n",
    "            changeNeeded--;\n",
    "            Console.WriteLine(\"\\t A one\");\n",
    "        }\n",
    "\n",
    "        if (changeNeeded > 0)\n",
    "            throw new InvalidOperationException(\"Can't make change. Do you have anything smaller?\");\n",
    "    }\n",
    "\n",
    "    public void LogTillStatus()\n",
    "    {\n",
    "        Console.WriteLine(\"The till currently has:\");\n",
    "        Console.WriteLine($\"{TwentyDollarBills * 20} in twenties\");\n",
    "        Console.WriteLine($\"{TenDollarBills * 10} in tens\");\n",
    "        Console.WriteLine($\"{FiveDollarBills * 5} in fives\");\n",
    "        Console.WriteLine($\"{OneDollarBills} in ones\");\n",
    "        Console.WriteLine();\n",
    "    }\n",
    "\n",
    "    public override string ToString() =>\n",
    "        $\"The till has {TwentyDollarBills * 20 + TenDollarBills * 10 + FiveDollarBills * 5 + OneDollarBills} dollars\";\n",
    "}\n"
   ]
  },
  {
   "cell_type": "markdown",
   "metadata": {
    "dotnet_interactive": {
     "language": "markdown"
    }
   },
   "source": [
    "Now that we have our `Till`, let's set up our scenario to experiment with."
   ]
  },
  {
   "cell_type": "code",
   "execution_count": null,
   "metadata": {
    "dotnet_interactive": {
     "language": "csharp"
    }
   },
   "outputs": [],
   "source": [
    "// TheBank is our cashier's till we are working with and we'll give it some cash to start with\n",
    "var theBank = new Till(ones: 50, fives: 20, tens: 10, twenties: 5);\n",
    "\n",
    "var expectedTotal = 50 * 1 + 20 * 5 + 10 * 10 + 5 * 20;\n",
    "\n",
    "theBank.LogTillStatus();\n",
    "Console.WriteLine(theBank);\n",
    "Console.WriteLine($\"Expected till value: {expectedTotal}\");"
   ]
  },
  {
   "cell_type": "markdown",
   "metadata": {},
   "source": [
    "Now that we have set an initial value for the contents of `TheBank`, let's start working with customers and making change.\n",
    "\n",
    "We'll define a number of transactions to run through `TheBank` and also setup a random number generator to give us the feeling of random items being purchased and we'll make change for those customers"
   ]
  },
  {
   "cell_type": "code",
   "execution_count": null,
   "metadata": {
    "dotnet_interactive": {
     "language": "csharp"
    }
   },
   "outputs": [],
   "source": [
    "int transactions = 2;\n",
    "var valueGenerator = new Random((int)DateTime.Now.Ticks);\n",
    "\n",
    "while (transactions-- > 0)\n",
    "{\n",
    "    int itemCost = valueGenerator.Next(2, 50);\n",
    "\n",
    "    int numOnes = itemCost % 2;\n",
    "    int numFives = (itemCost % 10 > 7) ? 1 : 0;\n",
    "    int numTens = (itemCost % 20 > 13) ? 1 : 0;\n",
    "    int numTwenties = (itemCost < 20) ? 1 : 2;\n",
    "\n",
    "    try\n",
    "    {\n",
    "        Console.WriteLine($\"Customer making a ${itemCost} purchase\");\n",
    "        Console.WriteLine($\"\\t Using {numTwenties} twenties\");\n",
    "        Console.WriteLine($\"\\t Using {numTens} tenners\");\n",
    "        Console.WriteLine($\"\\t Using {numFives} fivers\");\n",
    "        Console.WriteLine($\"\\t Using {numOnes} silver dollar coins\");\n",
    "\n",
    "        theBank.MakeChange(itemCost, numTwenties, numTens, numFives, numOnes);\n",
    "\n",
    "        expectedTotal += itemCost;\n",
    "    }\n",
    "    catch (InvalidOperationException e)\n",
    "    {\n",
    "        Console.WriteLine($\"Could not make transaction: {e.Message}\");\n",
    "    }\n",
    "\n",
    "    Console.WriteLine(theBank);\n",
    "    Console.WriteLine($\"Expected till value: {expectedTotal}\");\n",
    "    Console.WriteLine(\"  ------------------------------------------\");\n",
    "}"
   ]
  },
  {
   "cell_type": "markdown",
   "metadata": {
    "dotnet_interactive": {
     "language": "markdown"
    }
   },
   "source": []
  }
 ],
 "metadata": {
  "kernelspec": {
   "display_name": ".NET (C#)",
   "language": "C#",
   "name": ".net-csharp"
  },
  "language_info": {
   "file_extension": ".cs",
   "mimetype": "text/x-csharp",
   "name": "C#",
   "pygments_lexer": "csharp",
   "version": "9.0"
  }
 },
 "nbformat": 4,
 "nbformat_minor": 2
}